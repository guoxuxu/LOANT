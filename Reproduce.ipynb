{
 "cells": [
  {
   "cell_type": "code",
   "execution_count": 1,
   "metadata": {},
   "outputs": [],
   "source": [
    "import torchmodels\n",
    "import torch_loader\n",
    "import torch\n",
    "from torch.utils.data import DataLoader\n",
    "from sklearn.metrics import classification_report\n",
    "device = torch.device('cpu')"
   ]
  },
  {
   "cell_type": "markdown",
   "metadata": {},
   "source": [
    "## Test LOANT Performance on iSarcasm Test Set "
   ]
  },
  {
   "cell_type": "code",
   "execution_count": 2,
   "metadata": {},
   "outputs": [],
   "source": [
    "_, _, test_set = torch_loader.get_inputs(source=None, target='iSarcasm', emoji=False, fold='fold-1', upsample=True)\n",
    "test_loader = DataLoader(test_set, batch_size=64, shuffle=False, num_workers=4)"
   ]
  },
  {
   "cell_type": "code",
   "execution_count": 3,
   "metadata": {},
   "outputs": [],
   "source": [
    "model_name = 'LOANT'\n",
    "model = torchmodels.get_model(model_name=model_name, use_emoji=False, initialization=None, num_all_tokens=30647, num_added_tokens=125)"
   ]
  },
  {
   "cell_type": "markdown",
   "metadata": {},
   "source": [
    "### Download Trained Model Weights \n",
    "from: https://drive.google.com/file/d/1LWgWjE2Vsot31bTy1w-gY3-tofVNk_Ba/view?usp=sharing\n",
    "> Save it to current directory under /models"
   ]
  },
  {
   "cell_type": "code",
   "execution_count": 4,
   "metadata": {},
   "outputs": [
    {
     "data": {
      "text/plain": [
       "<All keys matched successfully>"
      ]
     },
     "execution_count": 4,
     "metadata": {},
     "output_type": "execute_result"
    }
   ],
   "source": [
    "model_path = 'models/PtacekiSarcasm.pt'\n",
    "model.load_state_dict(torch.load(model_path, map_location=device))"
   ]
  },
  {
   "cell_type": "code",
   "execution_count": 5,
   "metadata": {},
   "outputs": [],
   "source": [
    "model.eval()\n",
    "pred_labels = []\n",
    "true_labels = []\n",
    "with torch.no_grad():\n",
    "    for i, batch in enumerate(test_loader):\n",
    "        batch_size = batch[0].shape[0]\n",
    "        _, outs = model(inputs=batch[1], mask=batch[2], data_type='target', ad_weight=1)\n",
    "        pred_labels += outs[0].data.max(1)[1].tolist()\n",
    "        true_labels += batch[3].tolist()"
   ]
  },
  {
   "cell_type": "code",
   "execution_count": 6,
   "metadata": {},
   "outputs": [
    {
     "name": "stdout",
     "output_type": "stream",
     "text": [
      "0.4643, 0.4968, 0.4358\n"
     ]
    }
   ],
   "source": [
    "results = classification_report(y_true=true_labels, y_pred=pred_labels, output_dict=True)\n",
    "print('{:.4f}, {:.4f}, {:.4f}'.format(results['1']['f1-score'], results['1']['recall'], results['1']['precision']))"
   ]
  },
  {
   "cell_type": "markdown",
   "metadata": {},
   "source": [
    "## Test LOANT Performance on SemEval18 Test Set "
   ]
  },
  {
   "cell_type": "code",
   "execution_count": 7,
   "metadata": {},
   "outputs": [],
   "source": [
    "_, _, test_set = torch_loader.get_inputs(source=None, target='SemEval18', emoji=False, fold='fold-1', upsample=True)\n",
    "test_loader = DataLoader(test_set, batch_size=64, shuffle=False, num_workers=4)"
   ]
  },
  {
   "cell_type": "markdown",
   "metadata": {},
   "source": [
    "### Download Trained Model Weights \n",
    "from: https://drive.google.com/file/d/1hHu4oXhairBhQB6uyb_bWMMvfuq8pVPH/view?usp=sharing\n",
    "> Save it to current directory under /models"
   ]
  },
  {
   "cell_type": "code",
   "execution_count": 8,
   "metadata": {},
   "outputs": [
    {
     "data": {
      "text/plain": [
       "<All keys matched successfully>"
      ]
     },
     "execution_count": 8,
     "metadata": {},
     "output_type": "execute_result"
    }
   ],
   "source": [
    "model_path = 'models/GhoshSemEval18.pt'\n",
    "model.load_state_dict(torch.load(model_path, map_location=device))"
   ]
  },
  {
   "cell_type": "code",
   "execution_count": 9,
   "metadata": {},
   "outputs": [],
   "source": [
    "model.eval()\n",
    "pred_labels = []\n",
    "true_labels = []\n",
    "with torch.no_grad():\n",
    "    for i, batch in enumerate(test_loader):\n",
    "        batch_size = batch[0].shape[0]\n",
    "        _, outs = model(inputs=batch[1], mask=batch[2], data_type='target', ad_weight=1)\n",
    "        pred_labels += outs[0].data.max(1)[1].tolist()\n",
    "        true_labels += batch[3].tolist()"
   ]
  },
  {
   "cell_type": "code",
   "execution_count": 10,
   "metadata": {},
   "outputs": [
    {
     "name": "stdout",
     "output_type": "stream",
     "text": [
      "0.6819, 0.7735, 0.6097\n"
     ]
    }
   ],
   "source": [
    "results = classification_report(y_true=true_labels, y_pred=pred_labels, output_dict=True)\n",
    "print('{:.4f}, {:.4f}, {:.4f}'.format(results['1']['f1-score'], results['1']['recall'], results['1']['precision']))"
   ]
  },
  {
   "cell_type": "code",
   "execution_count": null,
   "metadata": {},
   "outputs": [],
   "source": []
  }
 ],
 "metadata": {
  "kernelspec": {
   "display_name": "Python 3",
   "language": "python",
   "name": "python3"
  },
  "language_info": {
   "codemirror_mode": {
    "name": "ipython",
    "version": 3
   },
   "file_extension": ".py",
   "mimetype": "text/x-python",
   "name": "python",
   "nbconvert_exporter": "python",
   "pygments_lexer": "ipython3",
   "version": "3.7.4"
  }
 },
 "nbformat": 4,
 "nbformat_minor": 4
}
